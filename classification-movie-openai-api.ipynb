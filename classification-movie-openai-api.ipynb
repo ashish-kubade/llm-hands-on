{
 "cells": [
  {
   "cell_type": "markdown",
   "metadata": {},
   "source": [
    "Classification using OpenAI API"
   ]
  },
  {
   "cell_type": "code",
   "execution_count": 1,
   "metadata": {},
   "outputs": [
    {
     "name": "stdout",
     "output_type": "stream",
     "text": [
      "Requirement already satisfied: datasets in /Users/ashish/.pyenv/versions/3.10.0/envs/llm/lib/python3.10/site-packages (3.3.1)\n",
      "Requirement already satisfied: openai in /Users/ashish/.pyenv/versions/3.10.0/envs/llm/lib/python3.10/site-packages (1.63.2)\n",
      "Requirement already satisfied: numpy>=1.17 in /Users/ashish/.pyenv/versions/3.10.0/envs/llm/lib/python3.10/site-packages (from datasets) (1.26.3)\n",
      "Requirement already satisfied: filelock in /Users/ashish/.pyenv/versions/3.10.0/envs/llm/lib/python3.10/site-packages (from datasets) (3.16.1)\n",
      "Requirement already satisfied: packaging in /Users/ashish/.pyenv/versions/3.10.0/envs/llm/lib/python3.10/site-packages (from datasets) (24.1)\n",
      "Requirement already satisfied: pyyaml>=5.1 in /Users/ashish/.pyenv/versions/3.10.0/envs/llm/lib/python3.10/site-packages (from datasets) (6.0.1)\n",
      "Requirement already satisfied: requests>=2.32.2 in /Users/ashish/.pyenv/versions/3.10.0/envs/llm/lib/python3.10/site-packages (from datasets) (2.32.3)\n",
      "Requirement already satisfied: pyarrow>=15.0.0 in /Users/ashish/.pyenv/versions/3.10.0/envs/llm/lib/python3.10/site-packages (from datasets) (19.0.0)\n",
      "Requirement already satisfied: dill<0.3.9,>=0.3.0 in /Users/ashish/.pyenv/versions/3.10.0/envs/llm/lib/python3.10/site-packages (from datasets) (0.3.8)\n",
      "Requirement already satisfied: xxhash in /Users/ashish/.pyenv/versions/3.10.0/envs/llm/lib/python3.10/site-packages (from datasets) (3.5.0)\n",
      "Requirement already satisfied: fsspec[http]<=2024.12.0,>=2023.1.0 in /Users/ashish/.pyenv/versions/3.10.0/envs/llm/lib/python3.10/site-packages (from datasets) (2024.10.0)\n",
      "Requirement already satisfied: aiohttp in /Users/ashish/.pyenv/versions/3.10.0/envs/llm/lib/python3.10/site-packages (from datasets) (3.11.12)\n",
      "Requirement already satisfied: multiprocess<0.70.17 in /Users/ashish/.pyenv/versions/3.10.0/envs/llm/lib/python3.10/site-packages (from datasets) (0.70.16)\n",
      "Requirement already satisfied: pandas in /Users/ashish/.pyenv/versions/3.10.0/envs/llm/lib/python3.10/site-packages (from datasets) (2.1.4)\n",
      "Requirement already satisfied: huggingface-hub>=0.24.0 in /Users/ashish/.pyenv/versions/3.10.0/envs/llm/lib/python3.10/site-packages (from datasets) (0.28.1)\n",
      "Requirement already satisfied: tqdm>=4.66.3 in /Users/ashish/.pyenv/versions/3.10.0/envs/llm/lib/python3.10/site-packages (from datasets) (4.67.1)\n",
      "Requirement already satisfied: httpx<1,>=0.23.0 in /Users/ashish/.pyenv/versions/3.10.0/envs/llm/lib/python3.10/site-packages (from openai) (0.28.1)\n",
      "Requirement already satisfied: sniffio in /Users/ashish/.pyenv/versions/3.10.0/envs/llm/lib/python3.10/site-packages (from openai) (1.3.0)\n",
      "Requirement already satisfied: pydantic<3,>=1.9.0 in /Users/ashish/.pyenv/versions/3.10.0/envs/llm/lib/python3.10/site-packages (from openai) (2.10.6)\n",
      "Requirement already satisfied: distro<2,>=1.7.0 in /Users/ashish/.pyenv/versions/3.10.0/envs/llm/lib/python3.10/site-packages (from openai) (1.9.0)\n",
      "Requirement already satisfied: typing-extensions<5,>=4.11 in /Users/ashish/.pyenv/versions/3.10.0/envs/llm/lib/python3.10/site-packages (from openai) (4.12.2)\n",
      "Requirement already satisfied: anyio<5,>=3.5.0 in /Users/ashish/.pyenv/versions/3.10.0/envs/llm/lib/python3.10/site-packages (from openai) (4.2.0)\n",
      "Requirement already satisfied: jiter<1,>=0.4.0 in /Users/ashish/.pyenv/versions/3.10.0/envs/llm/lib/python3.10/site-packages (from openai) (0.8.2)\n",
      "Requirement already satisfied: exceptiongroup>=1.0.2 in /Users/ashish/.pyenv/versions/3.10.0/envs/llm/lib/python3.10/site-packages (from anyio<5,>=3.5.0->openai) (1.2.0)\n",
      "Requirement already satisfied: idna>=2.8 in /Users/ashish/.pyenv/versions/3.10.0/envs/llm/lib/python3.10/site-packages (from anyio<5,>=3.5.0->openai) (3.6)\n",
      "Requirement already satisfied: async-timeout<6.0,>=4.0 in /Users/ashish/.pyenv/versions/3.10.0/envs/llm/lib/python3.10/site-packages (from aiohttp->datasets) (5.0.1)\n",
      "Requirement already satisfied: aiosignal>=1.1.2 in /Users/ashish/.pyenv/versions/3.10.0/envs/llm/lib/python3.10/site-packages (from aiohttp->datasets) (1.3.2)\n",
      "Requirement already satisfied: multidict<7.0,>=4.5 in /Users/ashish/.pyenv/versions/3.10.0/envs/llm/lib/python3.10/site-packages (from aiohttp->datasets) (6.1.0)\n",
      "Requirement already satisfied: attrs>=17.3.0 in /Users/ashish/.pyenv/versions/3.10.0/envs/llm/lib/python3.10/site-packages (from aiohttp->datasets) (23.2.0)\n",
      "Requirement already satisfied: frozenlist>=1.1.1 in /Users/ashish/.pyenv/versions/3.10.0/envs/llm/lib/python3.10/site-packages (from aiohttp->datasets) (1.5.0)\n",
      "Requirement already satisfied: yarl<2.0,>=1.17.0 in /Users/ashish/.pyenv/versions/3.10.0/envs/llm/lib/python3.10/site-packages (from aiohttp->datasets) (1.18.3)\n",
      "Requirement already satisfied: propcache>=0.2.0 in /Users/ashish/.pyenv/versions/3.10.0/envs/llm/lib/python3.10/site-packages (from aiohttp->datasets) (0.2.1)\n",
      "Requirement already satisfied: aiohappyeyeballs>=2.3.0 in /Users/ashish/.pyenv/versions/3.10.0/envs/llm/lib/python3.10/site-packages (from aiohttp->datasets) (2.4.6)\n",
      "Requirement already satisfied: httpcore==1.* in /Users/ashish/.pyenv/versions/3.10.0/envs/llm/lib/python3.10/site-packages (from httpx<1,>=0.23.0->openai) (1.0.7)\n",
      "Requirement already satisfied: certifi in /Users/ashish/.pyenv/versions/3.10.0/envs/llm/lib/python3.10/site-packages (from httpx<1,>=0.23.0->openai) (2023.11.17)\n",
      "Requirement already satisfied: h11<0.15,>=0.13 in /Users/ashish/.pyenv/versions/3.10.0/envs/llm/lib/python3.10/site-packages (from httpcore==1.*->httpx<1,>=0.23.0->openai) (0.14.0)\n",
      "Requirement already satisfied: pydantic-core==2.27.2 in /Users/ashish/.pyenv/versions/3.10.0/envs/llm/lib/python3.10/site-packages (from pydantic<3,>=1.9.0->openai) (2.27.2)\n",
      "Requirement already satisfied: annotated-types>=0.6.0 in /Users/ashish/.pyenv/versions/3.10.0/envs/llm/lib/python3.10/site-packages (from pydantic<3,>=1.9.0->openai) (0.7.0)\n",
      "Requirement already satisfied: charset-normalizer<4,>=2 in /Users/ashish/.pyenv/versions/3.10.0/envs/llm/lib/python3.10/site-packages (from requests>=2.32.2->datasets) (3.3.2)\n",
      "Requirement already satisfied: urllib3<3,>=1.21.1 in /Users/ashish/.pyenv/versions/3.10.0/envs/llm/lib/python3.10/site-packages (from requests>=2.32.2->datasets) (2.1.0)\n",
      "Requirement already satisfied: pytz>=2020.1 in /Users/ashish/.pyenv/versions/3.10.0/envs/llm/lib/python3.10/site-packages (from pandas->datasets) (2023.3.post1)\n",
      "Requirement already satisfied: python-dateutil>=2.8.2 in /Users/ashish/.pyenv/versions/3.10.0/envs/llm/lib/python3.10/site-packages (from pandas->datasets) (2.8.2)\n",
      "Requirement already satisfied: tzdata>=2022.1 in /Users/ashish/.pyenv/versions/3.10.0/envs/llm/lib/python3.10/site-packages (from pandas->datasets) (2023.4)\n",
      "Requirement already satisfied: six>=1.5 in /Users/ashish/.pyenv/versions/3.10.0/envs/llm/lib/python3.10/site-packages (from python-dateutil>=2.8.2->pandas->datasets) (1.16.0)\n",
      "\u001b[33mWARNING: You are using pip version 21.2.3; however, version 25.0.1 is available.\n",
      "You should consider upgrading via the '/Users/ashish/.pyenv/versions/3.10.0/envs/llm/bin/python3.10 -m pip install --upgrade pip' command.\u001b[0m\n"
     ]
    }
   ],
   "source": [
    "!pip install datasets openai\n"
   ]
  },
  {
   "cell_type": "code",
   "execution_count": 2,
   "metadata": {},
   "outputs": [
    {
     "name": "stderr",
     "output_type": "stream",
     "text": [
      "/Users/ashish/.pyenv/versions/llm/lib/python3.10/site-packages/tqdm/auto.py:21: TqdmWarning: IProgress not found. Please update jupyter and ipywidgets. See https://ipywidgets.readthedocs.io/en/stable/user_install.html\n",
      "  from .autonotebook import tqdm as notebook_tqdm\n"
     ]
    },
    {
     "data": {
      "text/plain": [
       "DatasetDict({\n",
       "    train: Dataset({\n",
       "        features: ['text', 'label'],\n",
       "        num_rows: 8530\n",
       "    })\n",
       "    validation: Dataset({\n",
       "        features: ['text', 'label'],\n",
       "        num_rows: 1066\n",
       "    })\n",
       "    test: Dataset({\n",
       "        features: ['text', 'label'],\n",
       "        num_rows: 1066\n",
       "    })\n",
       "})"
      ]
     },
     "execution_count": 2,
     "metadata": {},
     "output_type": "execute_result"
    }
   ],
   "source": [
    "from datasets import load_dataset\n",
    "\n",
    "# Load our data\n",
    "data = load_dataset(\"rotten_tomatoes\")\n",
    "data"
   ]
  },
  {
   "cell_type": "code",
   "execution_count": 16,
   "metadata": {},
   "outputs": [],
   "source": [
    "import openai\n",
    "# Create client\n",
    "API_KEY = \"sk-proj--AAA\"\n",
    "client = openai.OpenAI(api_key=API_KEY)"
   ]
  },
  {
   "cell_type": "code",
   "execution_count": 17,
   "metadata": {},
   "outputs": [],
   "source": [
    "def chatgpt_generation(prompt, document, model=\"gpt-3.5-turbo-0125\"):\n",
    "    \"\"\"Generate an output based on a prompt and an input document.\"\"\"\n",
    "    messages=[\n",
    "        {\n",
    "            \"role\": \"system\",\n",
    "            \"content\": \"You are a helpful assistant.\"\n",
    "            },\n",
    "        {\n",
    "            \"role\": \"user\",\n",
    "            \"content\":   prompt.replace(\"[DOCUMENT]\", document)\n",
    "            }\n",
    "    ]\n",
    "    chat_completion = client.chat.completions.create(\n",
    "      messages=messages,\n",
    "      model=model,\n",
    "      temperature=0\n",
    "    )\n",
    "    return chat_completion.choices[0].message.content"
   ]
  },
  {
   "cell_type": "code",
   "execution_count": 18,
   "metadata": {},
   "outputs": [
    {
     "data": {
      "text/plain": [
       "'1'"
      ]
     },
     "execution_count": 18,
     "metadata": {},
     "output_type": "execute_result"
    }
   ],
   "source": [
    "# Define a prompt template as a base\n",
    "prompt = \"\"\"Predict whether the following document is a positive or negative movie review:\n",
    "\n",
    "[DOCUMENT]\n",
    "\n",
    "If it is positive return 1 and if it is negative return 0. Do not give any other answers.\n",
    "\"\"\"\n",
    "\n",
    "# Predict the target using GPT\n",
    "document = \"unpretentious , charming , quirky , original\"\n",
    "chatgpt_generation(prompt, document)"
   ]
  },
  {
   "cell_type": "code",
   "execution_count": 25,
   "metadata": {},
   "outputs": [
    {
     "name": "stderr",
     "output_type": "stream",
     "text": [
      "  0%|          | 0/30 [00:00<?, ?it/s]"
     ]
    },
    {
     "name": "stderr",
     "output_type": "stream",
     "text": [
      "100%|██████████| 30/30 [00:29<00:00,  1.02it/s]\n"
     ]
    }
   ],
   "source": [
    "import numpy as np\n",
    "from tqdm import tqdm\n",
    "\n",
    "# You can skip this if you want to save your (free) credits\n",
    "predictions = [chatgpt_generation(prompt, doc) for doc in tqdm(data[\"test\"][\"text\"][:30])]"
   ]
  },
  {
   "cell_type": "code",
   "execution_count": 34,
   "metadata": {},
   "outputs": [],
   "source": [
    "from sklearn.metrics import classification_report\n",
    "\n",
    "def evaluate_performance(y_true, y_pred):\n",
    "    \"\"\"Create and print the classification report\"\"\"\n",
    "    performance = classification_report(\n",
    "        y_true, y_pred,\n",
    "        target_names=[\"Negative Review\", \"Positive Review\"]\n",
    "    )\n",
    "\n",
    "    print(performance)"
   ]
  },
  {
   "cell_type": "code",
   "execution_count": 35,
   "metadata": {},
   "outputs": [
    {
     "name": "stdout",
     "output_type": "stream",
     "text": [
      "30\n",
      "                 precision    recall  f1-score   support\n",
      "\n",
      "Negative Review       0.00      0.00      0.00         0\n",
      "Positive Review       1.00      0.77      0.87        30\n",
      "\n",
      "       accuracy                           0.77        30\n",
      "      macro avg       0.50      0.38      0.43        30\n",
      "   weighted avg       1.00      0.77      0.87        30\n",
      "\n"
     ]
    },
    {
     "name": "stderr",
     "output_type": "stream",
     "text": [
      "/Users/ashish/.pyenv/versions/llm/lib/python3.10/site-packages/sklearn/metrics/_classification.py:1471: UndefinedMetricWarning: Recall and F-score are ill-defined and being set to 0.0 in labels with no true samples. Use `zero_division` parameter to control this behavior.\n",
      "  _warn_prf(average, modifier, msg_start, len(result))\n",
      "/Users/ashish/.pyenv/versions/llm/lib/python3.10/site-packages/sklearn/metrics/_classification.py:1471: UndefinedMetricWarning: Recall and F-score are ill-defined and being set to 0.0 in labels with no true samples. Use `zero_division` parameter to control this behavior.\n",
      "  _warn_prf(average, modifier, msg_start, len(result))\n",
      "/Users/ashish/.pyenv/versions/llm/lib/python3.10/site-packages/sklearn/metrics/_classification.py:1471: UndefinedMetricWarning: Recall and F-score are ill-defined and being set to 0.0 in labels with no true samples. Use `zero_division` parameter to control this behavior.\n",
      "  _warn_prf(average, modifier, msg_start, len(result))\n"
     ]
    }
   ],
   "source": [
    "# Extract predictions\n",
    "y_pred = [int(pred) for pred in predictions]\n",
    "print(len(y_pred))\n",
    "# Evaluate performance\n",
    "evaluate_performance(data[\"test\"][\"label\"][:30], y_pred)"
   ]
  }
 ],
 "metadata": {
  "kernelspec": {
   "display_name": "llm",
   "language": "python",
   "name": "python3"
  },
  "language_info": {
   "codemirror_mode": {
    "name": "ipython",
    "version": 3
   },
   "file_extension": ".py",
   "mimetype": "text/x-python",
   "name": "python",
   "nbconvert_exporter": "python",
   "pygments_lexer": "ipython3",
   "version": "3.10.0"
  }
 },
 "nbformat": 4,
 "nbformat_minor": 2
}
